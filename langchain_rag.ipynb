{
 "cells": [
  {
   "cell_type": "markdown",
   "metadata": {},
   "source": [
    "Sure! Here's a detailed explanation of how to use the **Ollama** model locally in a markdown format:\n",
    "\n",
    "---\n",
    "\n",
    "# Using the Ollama Model Locally\n",
    "\n",
    "Ollama is a tool that allows you to run large language models (LLMs) locally on your machine. The following guide will show you how to install, set up, and use the **Ollama** model on your local environment.\n",
    "\n",
    "## 1. **Prerequisites**\n",
    "\n",
    "Before using the Ollama model locally, ensure that you meet the following requirements:\n",
    "\n",
    "- **Operating System**: Ollama supports macOS, Windows, and Linux.\n",
    "- **Hardware**: Your machine should have sufficient RAM and a good CPU/GPU for running large models (depending on the model size).\n",
    "\n",
    "## 2. **Install Ollama**\n",
    "\n",
    "### a) **Download Ollama**\n",
    "\n",
    "You need to download and install Ollama for your platform. Follow these instructions:\n",
    "\n",
    "- **macOS**: Download the `.dmg` file from [Ollama's website](https://ollama.com/), then double-click to install.\n",
    "- **Windows**: Download the `.exe` installer from [Ollama's website](https://ollama.com/), and follow the installation prompts.\n",
    "- **Linux**: You can install Ollama by following the [Linux installation instructions](https://ollama.com/docs).\n",
    "\n",
    "### b) **Check Installation**\n",
    "\n",
    "Once installed, you can check if Ollama is working by running the following command in the terminal (or command prompt for Windows):\n",
    "\n",
    "```bash\n",
    "ollama --version\n",
    "```\n",
    "\n",
    "This will return the version number if the installation was successful."
   ]
  },
  {
   "cell_type": "markdown",
   "metadata": {},
   "source": [
    "# Ingesting PDF"
   ]
  },
  {
   "cell_type": "code",
   "execution_count": 68,
   "metadata": {},
   "outputs": [],
   "source": [
    "from langchain_community.document_loaders import UnstructuredPDFLoader\n",
    "from langchain_community.document_loaders import OnlinePDFLoader"
   ]
  },
  {
   "cell_type": "code",
   "execution_count": 69,
   "metadata": {},
   "outputs": [],
   "source": [
    "local_path='files/DouglasModestoResume.pdf'\n",
    "\n",
    "# Local PDF file uploads \n",
    "if local_path:\n",
    "  loader = UnstructuredPDFLoader(file_path=local_path)\n",
    "  data = loader.load()\n",
    "else:\n",
    "  print('upload a PDF file')\n",
    "  "
   ]
  },
  {
   "cell_type": "code",
   "execution_count": 70,
   "metadata": {},
   "outputs": [
    {
     "data": {
      "text/plain": [
       "\"DOUGLAS MODESTO Senior Software Engineer\\n\\n+5511966123225\\n\\ndouglasgomesmodesto@gmail.com\\n\\nhttp://www.linkedin.com/in/douglasmodesto\\n\\nBrazil\\n\\nSummary\\n\\nOver 14 years of experience in software development Successfully delivered complex projects for small, medium-sized and big companies. Expertise in upholding best programming practices Applies principles such as SOLID and Design Patterns for robust and scalable solutions Skill set includes proﬁciency in C#, .NET framework, SQL Server, RESTful APIs, and cloud technologies like AWS Adept at collaborating with diverse teams and effective communication with stakeholders at all levels Strong problem-solving abilities Adaptability to new technologies Consistently delivers high-quality results\\n\\nSkills\\n\\nC#(14 years), .Net Core(6 years), .Net 6+(2 years), Python(2 years), JavaScript(8 years), Html 5/CSS(8 years), Angular(8 years), Typescript(8 years), Git flow(5 years), Git(5 years), Design Patterns (9 years), SOLID Principles (9 years), SQL Server(14 years), MongoDB(8 years), CI/CD(5 years), Cloud AWS(4 years), Agile(6 years), Docker(5 years), Clean Architecture(4 years), Microservices (5 years), Event-Oriented Architecture(4 years), Kafka(4 years), RabbitMQ(4 years).\\n\\nExperience\\n\\nSao Paulo, SP\\n\\nSafra Bank Cloud & IA Generative Architect 2024 - Present\\n\\nResponsible for the design and implementation of artificial intelligence solutions utilizing leading cloud provider resources, with a focus on enhancing resilience, security, scalability, and technological innovation. I develop strategies for AI integration across various bank sectors, ensuring efficient use of cloud tools and platforms to support a robust, high-performance architecture that drives digital transformation and delivers sustainable business value.\\n\\nTechnologies\\n\\nPython, .NET 8 , C#, Open AI, Azure AI, Aws Bedrock, IA, ML, SQL Server, Redis, MongoDB, CQRS, RabbitMQ, Kafka, AWS Cloud, Azure\\n\\nCloud, Microservices, Event-Oriented-Architecture, CI/CD, Agile, Docker, Streamlit, Flask\\n\\nSao Paulo, SP\\n\\nGuide Investments Software Engineer 2019 - 2024\\n\\nAs a software engineer, using .Net Core and Angular, I developed a platform that facilitated robust communication between Advisors and Customers,\\n\\nresulting in heightened activity levels. This empowered Advisors to effectively engage and capture more clients. Post-implementation, our data revealed a notable surge, with advisor-driven customer acquisition rates surpassing 30% compared to ﬁgures from 2019.\\n\\nTransitioning to my role as a software architect, I played a pivotal role in reshaping the company's authentication model by harnessing the power of\\n\\nAWS Cognito. This strategic move signiﬁcantly fortiﬁed security measures for our extensive customer base of over 70,000. Following the implementation, we witnessed a remarkable 70% reduction in fraudulent access attempts, ensuring a safer environment for our users.\\n\\nTechnologies •\\n\\n.NET Core, .NET 6, C#, SQL Server, Redis, MongoDB, CQRS, RabbitMQ, Kafka, AWS Cloud, Microservices, Event-Oriented-Architecture, CI/CD, Agile, Docker, Design Patterns, Angular 2+, Javascript, Html, CSS, Typescript, Git flow, Git, Jira, Bitbucket, Confluence\\n\\nTata Consultancy Services Software Engineer • As a software engineer, using .Net and SQL Server, I implemented RPA robots using at Itaú Bank to automate the search and consolidation of\\n\\nSao Paulo, SP 2018 - 2019\\n\\ninformation on internal platforms and fraud bureaus. This solution reduced credit desk analysis time from 40 minutes to just 3 minutes, resulting in signiﬁcant gains in performance and service efficiency.\\n\\nTechnologies •\\n\\n.NET Core, .NET, C#, SQL Server, Asp.Net MVC, Agile, Design Patterns, Angular 2+, Javascript, Html, CSS, Typescript, Git flow, Git, Selenium Web Scrapping\\n\\nIndigoSoft Sao Paulo, SP 2017 - 2018\\n\\nSoftware Engineer • As a software engineer, I implemented a system using .net, angular, and MongoDB, that was responsible for integrated systems within Call Centers.\\n\\nSpecifically, I worked with internal APIs of telephone services to monitor ongoing calls and ensure adherence to scheduled breaks for Telemarketing Attendants With this solution we were able to drastically reduce irregular breaks and unnecessary overtime taken by employees. After implementation, the company reduced around R$50,000 paid in overtime.\\n\\nTechnologies\\n\\n\\n\\n.NET, C#, SQL Server, Mongo DB, Asp.Net MVC, RabbitMQ, Agile, Design Patterns, Angular 2+, Javascript, Html, CSS, Bootstrap, Typescript, Git flow, Git, Windows WPF, Avaya Api\\n\\nOrsa Account Office & Habib's Central Ofﬁce Software Engineer\\n\\nSao Paulo, SP 2011 - 2016\\n\\nAs a software engineer, I spearheaded the development of integrated platforms connected to ERP, bolstering the efficiency of the HR, tax, and accounting\\n\\ndepartments.\\n\\nUsing C# and .Net Framework, I implemented seamless integrations with governmental entities, including the Federal Revenue Service, E- Social, and SPED Accounting.\\n\\nThese solutions resulted in a productivity surge of over 60% for the teams, leading to a signiﬁcant 50% relocation in the accounting and\\n\\ntax staff.\\n\\nThis optimization not only yielded substantial cost savings for the company but also established more effective and integrated\\n\\nprocesses.\\n\\nTechnologies\\n\\n\\n\\n.NET, C#, Visual Basic 6, SQL Server, Asp.Net MVC, RabbitMQ, Agile, Design Patterns, Javascript, Html, CSS, jQuery, Bootstrap, Windows Forms\\n\\nEducation\\n\\nFATEC – Technology University of Sao Paulo Analysis and System Development\\n\\nSao Paulo 2013 - 2015\\n\\nFIAP Administration and Paulist IT University MBA Artiﬁcial Intelligence & Machine Learning\\n\\nSao Paulo 2018 - 2019\\n\\nPUC Minas MBA Distributed Software Architect\\n\\nMinas Gerais 2020 - 2021\\n\\nLanguages\\n\\nPortuguese: Native\\n\\nEnglish: B2-C1\""
      ]
     },
     "execution_count": 70,
     "metadata": {},
     "output_type": "execute_result"
    }
   ],
   "source": [
    "data[0].page_content"
   ]
  },
  {
   "cell_type": "markdown",
   "metadata": {},
   "source": [
    "# Vector Embedding"
   ]
  },
  {
   "cell_type": "code",
   "execution_count": 71,
   "metadata": {},
   "outputs": [
    {
     "name": "stderr",
     "output_type": "stream",
     "text": [
      "\u001b[?25lpulling manifest ⠙ \u001b[?25h\u001b[?25l\u001b[2K\u001b[1Gpulling manifest ⠙ \u001b[?25h\u001b[?25l\u001b[2K\u001b[1Gpulling manifest ⠸ \u001b[?25h\u001b[?25l\u001b[2K\u001b[1Gpulling manifest ⠼ \u001b[?25h\u001b[?25l\u001b[2K\u001b[1Gpulling manifest ⠴ \u001b[?25h\u001b[?25l\u001b[2K\u001b[1Gpulling manifest ⠦ \u001b[?25h\u001b[?25l\u001b[2K\u001b[1Gpulling manifest \n",
      "pulling 970aa74c0a90... 100% ▕████████████████▏ 274 MB                         \n",
      "pulling c71d239df917... 100% ▕████████████████▏  11 KB                         \n",
      "pulling ce4a164fc046... 100% ▕████████████████▏   17 B                         \n",
      "pulling 31df23ea7daa... 100% ▕████████████████▏  420 B                         \n",
      "verifying sha256 digest \n",
      "writing manifest \n",
      "success \u001b[?25h\n",
      "\u001b[?25lpulling manifest ⠙ \u001b[?25h\u001b[?25l\u001b[2K\u001b[1Gpulling manifest ⠹ \u001b[?25h\u001b[?25l\u001b[2K\u001b[1Gpulling manifest ⠸ \u001b[?25h\u001b[?25l\u001b[2K\u001b[1Gpulling manifest ⠸ \u001b[?25h\u001b[?25l\u001b[2K\u001b[1Gpulling manifest ⠴ \u001b[?25h\u001b[?25l\u001b[2K\u001b[1Gpulling manifest \n",
      "pulling 2bada8a74506... 100% ▕████████████████▏ 4.7 GB                         \n",
      "pulling 66b9ea09bd5b... 100% ▕████████████████▏   68 B                         \n",
      "pulling eb4402837c78... 100% ▕████████████████▏ 1.5 KB                         \n",
      "pulling 832dd9e00a68... 100% ▕████████████████▏  11 KB                         \n",
      "pulling 2f15b3218f05... 100% ▕████████████████▏  487 B                         \n",
      "verifying sha256 digest \n",
      "writing manifest \n",
      "success \u001b[?25h\n"
     ]
    }
   ],
   "source": [
    "# Downloading the models from ollama\n",
    "\n",
    "!ollama pull nomic-embed-text\n",
    "!ollama pull qwen2.5:latest"
   ]
  },
  {
   "cell_type": "code",
   "execution_count": 72,
   "metadata": {},
   "outputs": [
    {
     "name": "stdout",
     "output_type": "stream",
     "text": [
      "NAME                       ID              SIZE      MODIFIED      \n",
      "qwen2.5:latest             845dbda0ea48    4.7 GB    2 seconds ago    \n",
      "nomic-embed-text:latest    0a109f422b47    274 MB    2 seconds ago    \n"
     ]
    }
   ],
   "source": [
    "!ollama list"
   ]
  },
  {
   "cell_type": "code",
   "execution_count": 73,
   "metadata": {},
   "outputs": [],
   "source": [
    "from langchain_ollama import OllamaEmbeddings\n",
    "from langchain_text_splitters import RecursiveCharacterTextSplitter\n",
    "from langchain_community.vectorstores import Chroma"
   ]
  },
  {
   "cell_type": "code",
   "execution_count": 74,
   "metadata": {},
   "outputs": [],
   "source": [
    "# Split and Chunks\n",
    "text_splitter = RecursiveCharacterTextSplitter(chunk_size=7500, chunk_overlap=75)\n",
    "chunks = text_splitter.split_documents(data)"
   ]
  },
  {
   "cell_type": "code",
   "execution_count": 76,
   "metadata": {},
   "outputs": [],
   "source": [
    "# Embedding \n",
    "\n",
    "embedding = OllamaEmbeddings(model='nomic-embed-text')\n"
   ]
  },
  {
   "cell_type": "code",
   "execution_count": 78,
   "metadata": {},
   "outputs": [],
   "source": [
    "# Add to vector database\n",
    "\n",
    "vector_db = Chroma.from_documents(\n",
    "  documents=chunks,\n",
    "  embedding=embedding,\n",
    "  collection_name='local_rag'\n",
    ")"
   ]
  },
  {
   "cell_type": "markdown",
   "metadata": {},
   "source": [
    "# Retrieval"
   ]
  },
  {
   "cell_type": "code",
   "execution_count": 80,
   "metadata": {},
   "outputs": [],
   "source": [
    "from langchain.prompts import ChatPromptTemplate, PromptTemplate\n",
    "from langchain_core.output_parsers import StrOutputParser\n",
    "from langchain_community.chat_models import ChatOllama\n",
    "from langchain_core.runnables import RunnablePassthrough, RunnableParallel\n",
    "from langchain.retrievers.multi_query import MultiQueryRetriever"
   ]
  },
  {
   "cell_type": "code",
   "execution_count": 81,
   "metadata": {},
   "outputs": [],
   "source": [
    "# LLM from Ollama\n",
    "\n",
    "local_model = 'qwen2.5:latest'\n",
    "llm = ChatOllama(model=local_model)"
   ]
  },
  {
   "cell_type": "code",
   "execution_count": 82,
   "metadata": {},
   "outputs": [],
   "source": [
    "QUERY_PROMPT = PromptTemplate(\n",
    "  input_variables=['question'],\n",
    "  template=\"\"\"\n",
    "    You are an AI language model assistant. Your task is to generate five different versions of the given user question to retrieve relevant documents from a vector database. \n",
    "    By generating multiple perspectives on the user question, your goal is to help the user overcome some of the limitations of the distance-based similarity search.\n",
    "    Provide these alternative questions separated by newlines.\n",
    "    \n",
    "    Original question: {question}\n",
    "  \"\"\"\n",
    ")"
   ]
  },
  {
   "cell_type": "code",
   "execution_count": 83,
   "metadata": {},
   "outputs": [],
   "source": [
    "retriever = MultiQueryRetriever.from_llm(\n",
    "  vector_db.as_retriever(),\n",
    "  llm,\n",
    "  prompt=QUERY_PROMPT\n",
    ")\n",
    "\n",
    "# RAG prompt\n",
    "template=\"\"\"  Answer the question in portugues from Brazil based ONLY on the following context:\n",
    "{context}\n",
    "\"\"\"\n",
    "\n",
    "prompt = ChatPromptTemplate.from_template(template=template)"
   ]
  },
  {
   "cell_type": "code",
   "execution_count": 84,
   "metadata": {},
   "outputs": [],
   "source": [
    "setup_and_retrieval = RunnableParallel(\n",
    "  {\n",
    "    'question': RunnablePassthrough() ,\n",
    "    'context': retriever\n",
    "  }\n",
    ")"
   ]
  },
  {
   "cell_type": "code",
   "execution_count": 85,
   "metadata": {},
   "outputs": [],
   "source": [
    "# Create the chain\n",
    "\n",
    "chain = (\n",
    "  setup_and_retrieval \n",
    "  | prompt \n",
    "  | llm \n",
    "  | StrOutputParser()\n",
    ")\n",
    "\n"
   ]
  },
  {
   "cell_type": "code",
   "execution_count": 86,
   "metadata": {},
   "outputs": [
    {
     "name": "stderr",
     "output_type": "stream",
     "text": [
      "Number of requested results 4 is greater than number of elements in index 2, updating n_results = 2\n",
      "Number of requested results 4 is greater than number of elements in index 2, updating n_results = 2\n",
      "Number of requested results 4 is greater than number of elements in index 2, updating n_results = 2\n",
      "Number of requested results 4 is greater than number of elements in index 2, updating n_results = 2\n",
      "Number of requested results 4 is greater than number of elements in index 2, updating n_results = 2\n"
     ]
    },
    {
     "data": {
      "text/plain": [
       "\"Douglas Modesto é um engenheiro de software sênior com mais de 14 anos de experiência no desenvolvimento de software. Ele tem uma vasta experiência em projetos complexos, tanto para pequenas quanto para grandes empresas, e se especializou em práticas de programação de ponta, como SOLID e padrões de design.\\n\\nAlguns dos seus principais habilidades incluem proficiência em C#, .NET Framework, SQL Server, APIs RESTful e tecnologias de nuvem como AWS. Ele possui uma forte capacidade de colaborar com equipes diversificadas e comunicar-se efetivamente com todos os níveis de stakeholders. Douglas é conhecido por sua resiliência técnica e habilidades problemáticas.\\n\\nAlguns dos seus projetos notáveis incluem a arquitetura de serviços baseados em nuvem e IA para um banco, a implementação de um sistema que facilita a comunicação entre consultores e clientes para uma empresa de investimentos, bem como a automação do processamento de dados utilizando RPA para uma instituição bancária.\\n\\nDouglas possui formação na FATEC – Universidade Tecnológica de São Paulo em Análise e Desenvolvimento de Sistemas, bem como MBA's em Inteligência Artificial & Machine Learning pela FIAP Administração e Paulista IT University, e em Arquitetura de Software Distribuído pela PUC Minas. Seu idioma nativo é o português e ele possui um nível B2-C1 de inglês.\\n\\nAs principais tecnologias que ele utiliza incluem .NET 8, C#, Python, Angular, TypeScript, Git Flow, Git, Design Patterns, SQL Server, MongoDB, CQRS, RabbitMQ, Kafka, AWS Cloud, Microservices, Event-Oriented Architecture e Docker.\""
      ]
     },
     "execution_count": 86,
     "metadata": {},
     "output_type": "execute_result"
    }
   ],
   "source": [
    "chain.invoke('Quais são os principais pontos sobre o Douglas')"
   ]
  },
  {
   "cell_type": "markdown",
   "metadata": {},
   "source": [
    "\"Douglas Modesto é um engenheiro de software sênior com mais de 14 anos de experiência no desenvolvimento de software. Ele tem uma vasta experiência em projetos complexos, tanto para pequenas quanto para grandes empresas, e se especializou em práticas de programação de ponta, como SOLID e padrões de design.\\n\\nAlguns dos seus principais habilidades incluem proficiência em C#, .NET Framework, SQL Server, APIs RESTful e tecnologias de nuvem como AWS. Ele possui uma forte capacidade de colaborar com equipes diversificadas e comunicar-se efetivamente com todos os níveis de stakeholders. Douglas é conhecido por sua resiliência técnica e habilidades problemáticas.\\n\\nAlguns dos seus projetos notáveis incluem a arquitetura de serviços baseados em nuvem e IA para um banco, a implementação de um sistema que facilita a comunicação entre consultores e clientes para uma empresa de investimentos, bem como a automação do processamento de dados utilizando RPA para uma instituição bancária.\\n\\nDouglas possui formação na FATEC – Universidade Tecnológica de São Paulo em Análise e Desenvolvimento de Sistemas, bem como MBA's em Inteligência Artificial & Machine Learning pela FIAP Administração e Paulista IT University, e em Arquitetura de Software Distribuído pela PUC Minas. Seu idioma nativo é o português e ele possui um nível B2-C1 de inglês.\\n\\nAs principais tecnologias que ele utiliza incluem .NET 8, C#, Python, Angular, TypeScript, Git Flow, Git, Design Patterns, SQL Server, MongoDB, CQRS, RabbitMQ, Kafka, AWS Cloud, Microservices, Event-Oriented Architecture e Docker.\""
   ]
  },
  {
   "cell_type": "code",
   "execution_count": 36,
   "metadata": {},
   "outputs": [],
   "source": [
    "# Delete all collection in the db\n",
    "vector_db.delete_collection()"
   ]
  }
 ],
 "metadata": {
  "kernelspec": {
   "display_name": "venv",
   "language": "python",
   "name": "python3"
  },
  "language_info": {
   "codemirror_mode": {
    "name": "ipython",
    "version": 3
   },
   "file_extension": ".py",
   "mimetype": "text/x-python",
   "name": "python",
   "nbconvert_exporter": "python",
   "pygments_lexer": "ipython3",
   "version": "3.12.2"
  }
 },
 "nbformat": 4,
 "nbformat_minor": 2
}
